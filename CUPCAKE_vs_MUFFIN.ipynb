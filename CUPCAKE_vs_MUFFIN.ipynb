{
 "cells": [
  {
   "cell_type": "markdown",
   "metadata": {},
   "source": [
    "\"\"\" In this dataset, we will look at the recipe of muffin and\n",
    "cupcake. We will use the Support Vector Machine (SVM) to detect \n",
    "what we would be making; either a cupcake or muffin\"\"\""
   ]
  },
  {
   "cell_type": "code",
   "execution_count": 1,
   "metadata": {},
   "outputs": [],
   "source": [
    "# First, we are going to load our packages for this coding\n",
    "import numpy as np\n",
    "import pandas as pd\n",
    "import seaborn as sns\n",
    "from sklearn import svm"
   ]
  },
  {
   "cell_type": "code",
   "execution_count": 2,
   "metadata": {},
   "outputs": [],
   "source": [
    "# Let us not forget to load our visualization for the data\n",
    "import matplotlib.pyplot as plt\n",
    "%matplotlib inline"
   ]
  },
  {
   "cell_type": "code",
   "execution_count": 3,
   "metadata": {},
   "outputs": [],
   "source": [
    "# Then we can load the data, but be careful not to load the path I am using since you will have to change it because you have a different computer than mine\n",
    "cupmuf = pd.read_excel('C:/Users/Delmafia91/Downloads/RecipesMuffinsCupcakes.xlsx')"
   ]
  },
  {
   "cell_type": "code",
   "execution_count": 4,
   "metadata": {
    "scrolled": true
   },
   "outputs": [
    {
     "data": {
      "text/html": [
       "<div>\n",
       "<style scoped>\n",
       "    .dataframe tbody tr th:only-of-type {\n",
       "        vertical-align: middle;\n",
       "    }\n",
       "\n",
       "    .dataframe tbody tr th {\n",
       "        vertical-align: top;\n",
       "    }\n",
       "\n",
       "    .dataframe thead th {\n",
       "        text-align: right;\n",
       "    }\n",
       "</style>\n",
       "<table border=\"1\" class=\"dataframe\">\n",
       "  <thead>\n",
       "    <tr style=\"text-align: right;\">\n",
       "      <th></th>\n",
       "      <th>Type</th>\n",
       "      <th>Flour</th>\n",
       "      <th>Milk</th>\n",
       "      <th>Sugar</th>\n",
       "      <th>Butter</th>\n",
       "      <th>Egg</th>\n",
       "      <th>Baking Powder</th>\n",
       "      <th>Vanilla</th>\n",
       "      <th>Salt</th>\n",
       "    </tr>\n",
       "  </thead>\n",
       "  <tbody>\n",
       "    <tr>\n",
       "      <th>0</th>\n",
       "      <td>Muffin</td>\n",
       "      <td>55</td>\n",
       "      <td>28</td>\n",
       "      <td>3</td>\n",
       "      <td>7</td>\n",
       "      <td>5</td>\n",
       "      <td>2</td>\n",
       "      <td>0</td>\n",
       "      <td>0</td>\n",
       "    </tr>\n",
       "    <tr>\n",
       "      <th>1</th>\n",
       "      <td>Muffin</td>\n",
       "      <td>47</td>\n",
       "      <td>24</td>\n",
       "      <td>12</td>\n",
       "      <td>6</td>\n",
       "      <td>9</td>\n",
       "      <td>1</td>\n",
       "      <td>0</td>\n",
       "      <td>0</td>\n",
       "    </tr>\n",
       "    <tr>\n",
       "      <th>2</th>\n",
       "      <td>Muffin</td>\n",
       "      <td>47</td>\n",
       "      <td>23</td>\n",
       "      <td>18</td>\n",
       "      <td>6</td>\n",
       "      <td>4</td>\n",
       "      <td>1</td>\n",
       "      <td>0</td>\n",
       "      <td>0</td>\n",
       "    </tr>\n",
       "    <tr>\n",
       "      <th>3</th>\n",
       "      <td>Muffin</td>\n",
       "      <td>45</td>\n",
       "      <td>11</td>\n",
       "      <td>17</td>\n",
       "      <td>17</td>\n",
       "      <td>8</td>\n",
       "      <td>1</td>\n",
       "      <td>0</td>\n",
       "      <td>0</td>\n",
       "    </tr>\n",
       "    <tr>\n",
       "      <th>4</th>\n",
       "      <td>Muffin</td>\n",
       "      <td>50</td>\n",
       "      <td>25</td>\n",
       "      <td>12</td>\n",
       "      <td>6</td>\n",
       "      <td>5</td>\n",
       "      <td>2</td>\n",
       "      <td>1</td>\n",
       "      <td>0</td>\n",
       "    </tr>\n",
       "  </tbody>\n",
       "</table>\n",
       "</div>"
      ],
      "text/plain": [
       "     Type  Flour  Milk  Sugar  Butter  Egg  Baking Powder  Vanilla  Salt\n",
       "0  Muffin     55    28      3       7    5              2        0     0\n",
       "1  Muffin     47    24     12       6    9              1        0     0\n",
       "2  Muffin     47    23     18       6    4              1        0     0\n",
       "3  Muffin     45    11     17      17    8              1        0     0\n",
       "4  Muffin     50    25     12       6    5              2        1     0"
      ]
     },
     "execution_count": 4,
     "metadata": {},
     "output_type": "execute_result"
    }
   ],
   "source": [
    "# Now that we have everything we need, we can take a peek at the data\n",
    "cupmuf.head(5)"
   ]
  },
  {
   "cell_type": "code",
   "execution_count": 1,
   "metadata": {},
   "outputs": [],
   "source": [
    "# Notice that these are numeric. I am sure we could guess what those numbers mean. I think the \"Flour\" means ounces, \"Milk\" liters and etc... These are the ingredients needed for the recipe"
   ]
  },
  {
   "cell_type": "code",
   "execution_count": null,
   "metadata": {},
   "outputs": [],
   "source": [
    "# We also need to plot the data so we can see how these variables look like.\n",
    "sns.lmplot('Flour', 'Sugar', data = cupmuf, hue='Type',\n",
    "          palette='Set1', fit_reg=False, scatter_kws={\"s\": 70});"
   ]
  },
  {
   "cell_type": "code",
   "execution_count": 6,
   "metadata": {},
   "outputs": [
    {
     "data": {
      "text/plain": [
       "['Flour', 'Milk', 'Sugar', 'Butter', 'Egg', 'Baking Powder', 'Vanilla', 'Salt']"
      ]
     },
     "execution_count": 6,
     "metadata": {},
     "output_type": "execute_result"
    }
   ],
   "source": [
    "# Format or pre-process  data\n",
    "type_label = np.where(cupmuf['Type']=='Muffin', 0, 1)\n",
    "cupmuf_feat = cupmuf.columns.values[1:].tolist()\n",
    "cupmuf_feat"
   ]
  },
  {
   "cell_type": "code",
   "execution_count": 7,
   "metadata": {},
   "outputs": [
    {
     "data": {
      "text/plain": [
       "array([[55, 28,  3,  7,  5,  2,  0,  0],\n",
       "       [47, 24, 12,  6,  9,  1,  0,  0],\n",
       "       [47, 23, 18,  6,  4,  1,  0,  0],\n",
       "       [45, 11, 17, 17,  8,  1,  0,  0],\n",
       "       [50, 25, 12,  6,  5,  2,  1,  0],\n",
       "       [55, 27,  3,  7,  5,  2,  1,  0],\n",
       "       [54, 27,  7,  5,  5,  2,  0,  0],\n",
       "       [47, 26, 10, 10,  4,  1,  0,  0],\n",
       "       [50, 17, 17,  8,  6,  1,  0,  0],\n",
       "       [50, 17, 17, 11,  4,  1,  0,  0],\n",
       "       [39,  0, 26, 19, 14,  1,  1,  0],\n",
       "       [42, 21, 16, 10,  8,  3,  0,  0],\n",
       "       [34, 17, 20, 20,  5,  2,  1,  0],\n",
       "       [39, 13, 17, 19, 10,  1,  1,  0],\n",
       "       [38, 15, 23, 15,  8,  0,  1,  0],\n",
       "       [42, 18, 25,  9,  5,  1,  0,  0],\n",
       "       [36, 14, 21, 14, 11,  2,  1,  0],\n",
       "       [38, 15, 31,  8,  6,  1,  1,  0],\n",
       "       [36, 16, 24, 12,  9,  1,  1,  0],\n",
       "       [34, 17, 23, 11, 13,  0,  1,  0]], dtype=int64)"
      ]
     },
     "execution_count": 7,
     "metadata": {},
     "output_type": "execute_result"
    }
   ],
   "source": [
    "# Looking at all ingredients\n",
    "ingr = cupmuf[cupmuf_feat].values\n",
    "ingr"
   ]
  },
  {
   "cell_type": "code",
   "execution_count": 8,
   "metadata": {},
   "outputs": [
    {
     "data": {
      "text/plain": [
       "array([[55,  3],\n",
       "       [47, 12],\n",
       "       [47, 18],\n",
       "       [45, 17],\n",
       "       [50, 12],\n",
       "       [55,  3],\n",
       "       [54,  7],\n",
       "       [47, 10],\n",
       "       [50, 17],\n",
       "       [50, 17],\n",
       "       [39, 26],\n",
       "       [42, 16],\n",
       "       [34, 20],\n",
       "       [39, 17],\n",
       "       [38, 23],\n",
       "       [42, 25],\n",
       "       [36, 21],\n",
       "       [38, 31],\n",
       "       [36, 24],\n",
       "       [34, 23]], dtype=int64)"
      ]
     },
     "execution_count": 8,
     "metadata": {},
     "output_type": "execute_result"
    }
   ],
   "source": [
    "# looking for specific ingredient\n",
    "ingredients = cupmuf[['Flour', 'Sugar']].values\n",
    "ingredients"
   ]
  },
  {
   "cell_type": "code",
   "execution_count": 9,
   "metadata": {},
   "outputs": [
    {
     "data": {
      "text/plain": [
       "SVC(C=1.0, cache_size=200, class_weight=None, coef0=0.0,\n",
       "  decision_function_shape='ovr', degree=3, gamma='auto_deprecated',\n",
       "  kernel='linear', max_iter=-1, probability=False, random_state=None,\n",
       "  shrinking=True, tol=0.001, verbose=False)"
      ]
     },
     "execution_count": 9,
     "metadata": {},
     "output_type": "execute_result"
    }
   ],
   "source": [
    "# We want to fit our model\n",
    "cupmufel = svm.SVC(kernel='linear')\n",
    "cupmufel.fit(ingredients, type_label)"
   ]
  },
  {
   "cell_type": "code",
   "execution_count": 23,
   "metadata": {},
   "outputs": [],
   "source": [
    "# Get the separating hyperplane\n",
    "cm = cupmufel.coef_[0]\n",
    "a = -cm[0] / cm[1]\n",
    "xx = np.linspace(30, 60)\n",
    "yy = a * xx - (cupmufel.intercept_[0]) / cm[1]\n",
    "\n",
    "# plot the parallels to the separating hyperplane\n",
    "cc = cupmufel.support_vectors_[0]\n",
    "yy_down = a * xx + (cc[1] - a * cc[0])\n",
    "mm = cupmufel.support_vectors_[-1]\n",
    "yy_up = a * xx + (mm[1] - a * mm[0])"
   ]
  },
  {
   "cell_type": "code",
   "execution_count": 27,
   "metadata": {},
   "outputs": [
    {
     "data": {
      "text/plain": [
       "[<matplotlib.lines.Line2D at 0x1b7e7fa00f0>]"
      ]
     },
     "execution_count": 27,
     "metadata": {},
     "output_type": "execute_result"
    },
    {
     "data": {
      "image/png": "[encoded data removed]",
      "text/plain": [
       "<Figure size 439x360 with 1 Axes>"
      ]
     },
     "metadata": {
      "needs_background": "light"
     },
     "output_type": "display_data"
    }
   ],
   "source": [
    "# plot new graph\n",
    "sns.lmplot('Flour', 'Sugar', data = cupmuf, hue='Type',\n",
    "          palette='Set1', fit_reg=False, scatter_kws={\"s\": 70})\n",
    "plt.plot(xx, yy, linewidth=2, color='blue')\n",
    "plt.plot(xx, yy_down, 'k--')\n",
    "plt.plot(xx, yy_up, 'k--')"
   ]
  },
  {
   "cell_type": "code",
   "execution_count": 28,
   "metadata": {},
   "outputs": [],
   "source": [
    "# This is where we will want to create a function to predict muffin or cupcake. The reason for it is that you do not want to keep on writing the same thing all the time. That would be tiring\n",
    "def Cupcake_or_Muffin(flour, sugar):\n",
    "    if(cupmufel.predict([[flour, sugar]]))==0:\n",
    "        print('You\\'re looking at a muffin recipe')\n",
    "    else:\n",
    "        print('You\\'re looking at a cupcake recipe')"
   ]
  },
  {
   "cell_type": "code",
   "execution_count": 29,
   "metadata": {},
   "outputs": [
    {
     "name": "stdout",
     "output_type": "stream",
     "text": [
      "You're looking at a muffin recipe\n"
     ]
    }
   ],
   "source": [
    "# predict if 50 parts flour and 20 parts sugar\n",
    "Cupcake_or_Muffin(50, 20)"
   ]
  },
  {
   "cell_type": "code",
   "execution_count": 32,
   "metadata": {},
   "outputs": [
    {
     "data": {
      "text/plain": [
       "[<matplotlib.lines.Line2D at 0x1b7e80e9438>]"
      ]
     },
     "execution_count": 32,
     "metadata": {},
     "output_type": "execute_result"
    },
    {
     "data": {
      "image/png": "[encoded data removed]",
      "text/plain": [
       "<Figure size 439x360 with 1 Axes>"
      ]
     },
     "metadata": {
      "needs_background": "light"
     },
     "output_type": "display_data"
    }
   ],
   "source": [
    "# plot prediction on the graph\n",
    "sns.lmplot('Flour', 'Sugar', data = cupmuf, hue='Type',\n",
    "          palette='Set1', fit_reg=False, scatter_kws={\"s\": 70})\n",
    "plt.plot(xx, yy, linewidth=2, color='blue')\n",
    "plt.plot(50, 20, 'yo', markersize='9')"
   ]
  }
 ],
 "metadata": {
  "kernelspec": {
   "display_name": "Python 3",
   "language": "python",
   "name": "python3"
  },
  "language_info": {
   "codemirror_mode": {
    "name": "ipython",
    "version": 3
   },
   "file_extension": ".py",
   "mimetype": "text/x-python",
   "name": "python",
   "nbconvert_exporter": "python",
   "pygments_lexer": "ipython3",
   "version": "3.7.3"
  }
 },
 "nbformat": 4,
 "nbformat_minor": 2
}
